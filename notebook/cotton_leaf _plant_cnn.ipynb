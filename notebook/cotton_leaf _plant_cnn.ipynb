{
  "cells": [
    {
      "cell_type": "code",
      "execution_count": null,
      "metadata": {
        "id": "u21ItM8c6w4L"
      },
      "outputs": [],
      "source": [
        "#!pip install tensorflow\n",
        "#!pip install keras-tuner"
      ]
    },
    {
      "cell_type": "code",
      "execution_count": 2,
      "metadata": {
        "id": "J4pXBLIJAkvk"
      },
      "outputs": [],
      "source": [
        "# importing the libraries\n",
        "import keras\n",
        "from keras import layers\n",
        "from keras.layers import Dense, Flatten\n",
        "from keras.models import Model\n",
        "from keras.preprocessing import image\n",
        "from keras.preprocessing.image import ImageDataGenerator\n",
        "from keras.models import Sequential\n",
        "from keras.layers import Conv2D\n",
        "from keras.layers import MaxPooling2D\n",
        "from keras_tuner import RandomSearch\n",
        "\n",
        "import numpy as np\n",
        "from glob import glob\n",
        "import matplotlib.pyplot as plt"
      ]
    },
    {
      "cell_type": "code",
      "execution_count": 3,
      "metadata": {
        "id": "8xJzxhswC2HD"
      },
      "outputs": [],
      "source": [
        "# re-sizing all the images\n",
        "IMAGE_SIZE = [224, 224]\n",
        "\n",
        "train_path = '/content/drive/MyDrive/Dataset_cotton/Dataset/train'\n",
        "valid_path = '/content/drive/MyDrive/Dataset_cotton/Dataset/val'"
      ]
    },
    {
      "cell_type": "code",
      "execution_count": 4,
      "metadata": {
        "id": "uIiWzQ4oDKcL"
      },
      "outputs": [],
      "source": [
        "# Using  ImageDataGenerator to import the images from the dataset\n",
        "from keras.preprocessing.image import ImageDataGenerator\n",
        "\n",
        "train_datagen = ImageDataGenerator(rescale = 1./255,\n",
        "                                   shear_range = 0.2,\n",
        "                                   zoom_range = 0.2,\n",
        "                                   horizontal_flip = True)\n",
        "\n",
        "test_datagen = ImageDataGenerator(rescale = 1./255)"
      ]
    },
    {
      "cell_type": "code",
      "execution_count": 5,
      "metadata": {
        "colab": {
          "base_uri": "https://localhost:8080/"
        },
        "id": "hUzVHzYHC2WF",
        "outputId": "d715e7f9-c829-47e6-862d-c5233bf583a6"
      },
      "outputs": [
        {
          "name": "stdout",
          "output_type": "stream",
          "text": [
            "Found 1951 images belonging to 4 classes.\n",
            "Found 324 images belonging to 4 classes.\n"
          ]
        }
      ],
      "source": [
        "#training and test dataset\n",
        "training_set = train_datagen.flow_from_directory('/content/drive/MyDrive/Dataset_cotton/Dataset/train',\n",
        "                                                 target_size = (224, 224),\n",
        "                                                 batch_size = 32,\n",
        "                                                 class_mode = 'categorical')\n",
        "\n",
        "test_set = test_datagen.flow_from_directory('/content/drive/MyDrive/Dataset_cotton/Dataset/val',\n",
        "                                            target_size = (224, 224),\n",
        "                                            batch_size = 32,\n",
        "                                            class_mode = 'categorical')"
      ]
    },
    {
      "cell_type": "code",
      "execution_count": 7,
      "metadata": {
        "colab": {
          "base_uri": "https://localhost:8080/"
        },
        "id": "refOtHxMcIWR",
        "outputId": "bb59bc8e-c463-494e-ab13-04c355730ada"
      },
      "outputs": [
        {
          "name": "stdout",
          "output_type": "stream",
          "text": [
            "{'diseased cotton leaf': 0, 'diseased cotton plant': 1, 'fresh cotton leaf': 2, 'fresh cotton plant': 3}\n"
          ]
        }
      ],
      "source": [
        "labels = test_set.class_indices\n",
        "print(labels)"
      ]
    },
    {
      "cell_type": "code",
      "execution_count": 8,
      "metadata": {
        "id": "g3m-EFezC2j8"
      },
      "outputs": [],
      "source": [
        "#Model Building\n",
        "\n",
        "def build_model(hp):\n",
        "  model = keras.Sequential()\n",
        "\n",
        "  #finding best no of layers with parameters\n",
        "  for i in range (hp.Int('no_conv_layers', min_value = 2, max_value =5)):\n",
        "    model.add(layers.Conv2D(filters= hp.Int(f'filter{i}', min_value =32 , max_value = 128, step = 16),\n",
        "                            kernel_size= hp.Choice(f'kernel{i}' , values = [2 , 4] ),\n",
        "                            activation = 'relu',\n",
        "                            input_shape = (224, 224 ,3)))\n",
        "\n",
        "    model.add(layers.MaxPool2D(hp.Int(f'pool_size {i}' , min_value = 2 , max_value = 3 , step = 1)))\n",
        "\n",
        "\n",
        "  model.add(layers.Flatten())\n",
        "\n",
        "\n",
        "  #finding the best no of dense layers\n",
        "  #fully connected layer\n",
        "\n",
        "  for i in range(hp.Int('no_of_denseLayer' , min_value = 1, max_value=3)):\n",
        "    model.add(layers.Dense(\n",
        "        units = hp.Int(f'dense_unit{i}', min_value = 32 , max_value = 256, step= 32),\n",
        "        activation = 'relu'\n",
        "        ))\n",
        "\n",
        "  #final output layer\n",
        "\n",
        "  model.add(layers.Dense(4 , activation = 'softmax'))\n",
        "\n",
        "\n",
        "\n",
        "  model.compile(optimizer= keras.optimizers.Adam(\n",
        "                            hp.Choice('learning rate', values=[1e-2 , 1e-3, 1e-4])),\n",
        "                loss = 'categorical_crossentropy',\n",
        "                metrics = ['accuracy']     )\n",
        "\n",
        "  return model\n",
        "\n",
        "\n",
        "\n"
      ]
    },
    {
      "cell_type": "code",
      "execution_count": 10,
      "metadata": {
        "id": "3UXBiaWmgFkZ"
      },
      "outputs": [],
      "source": [
        "#instantiating Keras tunner RandomSearch\n",
        "tuner = RandomSearch(\n",
        "      build_model,\n",
        "      objective = 'val_accuracy',\n",
        "      max_trials=  7,\n",
        "      directory = 'Dataset_cotton',\n",
        "      project_name = 'Dataset'\n",
        "\n",
        "\n",
        ")"
      ]
    },
    {
      "cell_type": "code",
      "execution_count": 11,
      "metadata": {
        "colab": {
          "base_uri": "https://localhost:8080/"
        },
        "id": "lYT_IDkofktB",
        "outputId": "7aeea1a6-28fc-4f2e-9950-b002a43db329"
      },
      "outputs": [
        {
          "name": "stdout",
          "output_type": "stream",
          "text": [
            "Trial 7 Complete [00h 04m 43s]\n",
            "val_accuracy: 0.8395061492919922\n",
            "\n",
            "Best val_accuracy So Far: 0.8395061492919922\n",
            "Total elapsed time: 00h 49m 15s\n"
          ]
        }
      ],
      "source": [
        "tuner.search(training_set, epochs=7, validation_data=test_set)"
      ]
    },
    {
      "cell_type": "code",
      "execution_count": 12,
      "metadata": {
        "id": "3MZPZFg7C2vF"
      },
      "outputs": [],
      "source": [
        "#best_parameter = tuner.get_best_hyperparameters()\n"
      ]
    },
    {
      "cell_type": "code",
      "execution_count": 13,
      "metadata": {
        "id": "bxgvAfNYJG31"
      },
      "outputs": [],
      "source": [
        "# taking best model\n",
        "best_model = tuner.get_best_models(num_models=1)[0]"
      ]
    },
    {
      "cell_type": "code",
      "execution_count": 14,
      "metadata": {
        "colab": {
          "base_uri": "https://localhost:8080/"
        },
        "id": "Muz99qxIJZ73",
        "outputId": "9f52779b-7370-4e69-9401-7e417c00395a"
      },
      "outputs": [
        {
          "name": "stdout",
          "output_type": "stream",
          "text": [
            "Model: \"sequential\"\n",
            "_________________________________________________________________\n",
            " Layer (type)                Output Shape              Param #   \n",
            "=================================================================\n",
            " conv2d (Conv2D)             (None, 221, 221, 64)      3136      \n",
            "                                                                 \n",
            " max_pooling2d (MaxPooling2  (None, 110, 110, 64)      0         \n",
            " D)                                                              \n",
            "                                                                 \n",
            " conv2d_1 (Conv2D)           (None, 107, 107, 64)      65600     \n",
            "                                                                 \n",
            " max_pooling2d_1 (MaxPoolin  (None, 35, 35, 64)        0         \n",
            " g2D)                                                            \n",
            "                                                                 \n",
            " conv2d_2 (Conv2D)           (None, 32, 32, 112)       114800    \n",
            "                                                                 \n",
            " max_pooling2d_2 (MaxPoolin  (None, 16, 16, 112)       0         \n",
            " g2D)                                                            \n",
            "                                                                 \n",
            " flatten (Flatten)           (None, 28672)             0         \n",
            "                                                                 \n",
            " dense (Dense)               (None, 224)               6422752   \n",
            "                                                                 \n",
            " dense_1 (Dense)             (None, 32)                7200      \n",
            "                                                                 \n",
            " dense_2 (Dense)             (None, 256)               8448      \n",
            "                                                                 \n",
            " dense_3 (Dense)             (None, 4)                 1028      \n",
            "                                                                 \n",
            "=================================================================\n",
            "Total params: 6622964 (25.26 MB)\n",
            "Trainable params: 6622964 (25.26 MB)\n",
            "Non-trainable params: 0 (0.00 Byte)\n",
            "_________________________________________________________________\n"
          ]
        }
      ],
      "source": [
        "best_model.summary()"
      ]
    },
    {
      "cell_type": "code",
      "execution_count": 15,
      "metadata": {
        "colab": {
          "base_uri": "https://localhost:8080/"
        },
        "id": "Eyg2bW5LHlJ1",
        "outputId": "bbe87b05-f481-4675-cae3-eacd9e28eeee"
      },
      "outputs": [
        {
          "name": "stdout",
          "output_type": "stream",
          "text": [
            "Epoch 8/45\n",
            "61/61 [==============================] - 38s 592ms/step - loss: 0.5422 - accuracy: 0.7970 - val_loss: 0.5816 - val_accuracy: 0.7562\n",
            "Epoch 9/45\n",
            "61/61 [==============================] - 39s 637ms/step - loss: 0.4157 - accuracy: 0.8355 - val_loss: 0.3063 - val_accuracy: 0.8827\n",
            "Epoch 10/45\n",
            "61/61 [==============================] - 36s 591ms/step - loss: 0.3932 - accuracy: 0.8534 - val_loss: 0.3124 - val_accuracy: 0.8735\n",
            "Epoch 11/45\n",
            "61/61 [==============================] - 35s 580ms/step - loss: 0.3490 - accuracy: 0.8642 - val_loss: 0.2773 - val_accuracy: 0.8735\n",
            "Epoch 12/45\n",
            "61/61 [==============================] - 35s 572ms/step - loss: 0.2708 - accuracy: 0.8949 - val_loss: 0.2589 - val_accuracy: 0.8981\n",
            "Epoch 13/45\n",
            "61/61 [==============================] - 36s 583ms/step - loss: 0.2646 - accuracy: 0.8980 - val_loss: 0.3734 - val_accuracy: 0.8704\n",
            "Epoch 14/45\n",
            "61/61 [==============================] - 35s 566ms/step - loss: 0.2481 - accuracy: 0.9077 - val_loss: 0.4464 - val_accuracy: 0.8241\n",
            "Epoch 15/45\n",
            "61/61 [==============================] - 35s 573ms/step - loss: 0.2525 - accuracy: 0.8975 - val_loss: 0.2440 - val_accuracy: 0.9043\n",
            "Epoch 16/45\n",
            "61/61 [==============================] - 36s 599ms/step - loss: 0.2062 - accuracy: 0.9231 - val_loss: 0.6934 - val_accuracy: 0.7623\n",
            "Epoch 17/45\n",
            "61/61 [==============================] - 35s 579ms/step - loss: 0.2461 - accuracy: 0.9088 - val_loss: 0.3695 - val_accuracy: 0.8673\n",
            "Epoch 18/45\n",
            "61/61 [==============================] - 36s 583ms/step - loss: 0.1764 - accuracy: 0.9313 - val_loss: 0.2184 - val_accuracy: 0.9198\n",
            "Epoch 19/45\n",
            "61/61 [==============================] - 35s 568ms/step - loss: 0.1703 - accuracy: 0.9344 - val_loss: 0.4265 - val_accuracy: 0.8488\n",
            "Epoch 20/45\n",
            "61/61 [==============================] - 36s 586ms/step - loss: 0.1635 - accuracy: 0.9390 - val_loss: 0.3465 - val_accuracy: 0.8827\n",
            "Epoch 21/45\n",
            "61/61 [==============================] - 36s 587ms/step - loss: 0.1597 - accuracy: 0.9349 - val_loss: 0.2216 - val_accuracy: 0.9198\n",
            "Epoch 22/45\n",
            "61/61 [==============================] - 35s 571ms/step - loss: 0.1658 - accuracy: 0.9323 - val_loss: 0.3421 - val_accuracy: 0.8735\n",
            "Epoch 23/45\n",
            "61/61 [==============================] - 35s 576ms/step - loss: 0.1346 - accuracy: 0.9523 - val_loss: 0.1971 - val_accuracy: 0.9198\n",
            "Epoch 24/45\n",
            "61/61 [==============================] - 36s 583ms/step - loss: 0.0962 - accuracy: 0.9651 - val_loss: 0.3103 - val_accuracy: 0.9105\n",
            "Epoch 25/45\n",
            "61/61 [==============================] - 35s 576ms/step - loss: 0.1600 - accuracy: 0.9426 - val_loss: 0.2524 - val_accuracy: 0.9012\n",
            "Epoch 26/45\n",
            "61/61 [==============================] - 34s 563ms/step - loss: 0.0916 - accuracy: 0.9641 - val_loss: 0.2345 - val_accuracy: 0.9074\n",
            "Epoch 27/45\n",
            "61/61 [==============================] - 35s 577ms/step - loss: 0.0977 - accuracy: 0.9585 - val_loss: 0.3633 - val_accuracy: 0.8920\n",
            "Epoch 28/45\n",
            "61/61 [==============================] - 36s 587ms/step - loss: 0.0953 - accuracy: 0.9667 - val_loss: 0.3031 - val_accuracy: 0.9074\n",
            "Epoch 29/45\n",
            "61/61 [==============================] - 35s 568ms/step - loss: 0.0855 - accuracy: 0.9739 - val_loss: 0.3047 - val_accuracy: 0.8981\n",
            "Epoch 30/45\n",
            "61/61 [==============================] - 36s 586ms/step - loss: 0.0897 - accuracy: 0.9692 - val_loss: 0.2211 - val_accuracy: 0.9414\n",
            "Epoch 31/45\n",
            "61/61 [==============================] - 34s 560ms/step - loss: 0.0876 - accuracy: 0.9692 - val_loss: 0.2043 - val_accuracy: 0.9414\n",
            "Epoch 32/45\n",
            "61/61 [==============================] - 35s 576ms/step - loss: 0.0519 - accuracy: 0.9841 - val_loss: 0.2946 - val_accuracy: 0.9321\n",
            "Epoch 33/45\n",
            "61/61 [==============================] - 35s 582ms/step - loss: 0.0782 - accuracy: 0.9759 - val_loss: 0.3048 - val_accuracy: 0.9167\n",
            "Epoch 34/45\n",
            "61/61 [==============================] - 36s 590ms/step - loss: 0.0530 - accuracy: 0.9810 - val_loss: 0.2449 - val_accuracy: 0.9352\n",
            "Epoch 35/45\n",
            "61/61 [==============================] - 35s 576ms/step - loss: 0.1130 - accuracy: 0.9651 - val_loss: 0.3076 - val_accuracy: 0.8981\n",
            "Epoch 36/45\n",
            "61/61 [==============================] - 35s 577ms/step - loss: 0.0602 - accuracy: 0.9774 - val_loss: 0.1758 - val_accuracy: 0.9290\n",
            "Epoch 37/45\n",
            "61/61 [==============================] - 35s 561ms/step - loss: 0.0592 - accuracy: 0.9785 - val_loss: 0.2075 - val_accuracy: 0.9321\n",
            "Epoch 38/45\n",
            "61/61 [==============================] - 36s 597ms/step - loss: 0.0390 - accuracy: 0.9821 - val_loss: 0.2397 - val_accuracy: 0.9228\n",
            "Epoch 39/45\n",
            "61/61 [==============================] - 35s 571ms/step - loss: 0.0242 - accuracy: 0.9923 - val_loss: 0.4258 - val_accuracy: 0.9074\n",
            "Epoch 40/45\n",
            "61/61 [==============================] - 35s 570ms/step - loss: 0.0717 - accuracy: 0.9764 - val_loss: 0.2843 - val_accuracy: 0.9136\n",
            "Epoch 41/45\n",
            "61/61 [==============================] - 35s 578ms/step - loss: 0.0551 - accuracy: 0.9821 - val_loss: 0.2611 - val_accuracy: 0.9228\n",
            "Epoch 42/45\n",
            "61/61 [==============================] - 35s 577ms/step - loss: 0.0473 - accuracy: 0.9826 - val_loss: 0.2417 - val_accuracy: 0.9290\n",
            "Epoch 43/45\n",
            "61/61 [==============================] - 34s 560ms/step - loss: 0.0363 - accuracy: 0.9877 - val_loss: 0.3399 - val_accuracy: 0.9167\n",
            "Epoch 44/45\n",
            "61/61 [==============================] - 36s 583ms/step - loss: 0.0568 - accuracy: 0.9826 - val_loss: 0.2555 - val_accuracy: 0.9475\n",
            "Epoch 45/45\n",
            "61/61 [==============================] - 35s 578ms/step - loss: 0.0394 - accuracy: 0.9856 - val_loss: 0.3044 - val_accuracy: 0.9167\n"
          ]
        },
        {
          "data": {
            "text/plain": [
              "<keras.src.callbacks.History at 0x7fb3021ae9b0>"
            ]
          },
          "execution_count": 15,
          "metadata": {},
          "output_type": "execute_result"
        }
      ],
      "source": [
        "best_model.fit(training_set, epochs =45 , initial_epoch =7 , validation_data=test_set)"
      ]
    },
    {
      "cell_type": "code",
      "execution_count": 16,
      "metadata": {
        "colab": {
          "base_uri": "https://localhost:8080/"
        },
        "id": "9RNmV_sJRTsC",
        "outputId": "d35e35ca-480a-43f7-f0ea-fe241cf08023"
      },
      "outputs": [
        {
          "name": "stdout",
          "output_type": "stream",
          "text": [
            "11/11 [==============================] - 2s 169ms/step\n"
          ]
        }
      ],
      "source": [
        "y_pred = best_model.predict(test_set)"
      ]
    },
    {
      "cell_type": "code",
      "execution_count": 19,
      "metadata": {
        "id": "0SGo7c15WDZK"
      },
      "outputs": [],
      "source": [
        "import numpy as np\n",
        "y_pred = np.argmax(y_pred, axis=1)"
      ]
    },
    {
      "cell_type": "code",
      "execution_count": 22,
      "metadata": {
        "colab": {
          "base_uri": "https://localhost:8080/"
        },
        "id": "8C_XnY5DWDTx",
        "outputId": "bb6e996d-2d75-4221-fbf6-4fd60f7bd950"
      },
      "outputs": [
        {
          "data": {
            "text/plain": [
              "array([3, 1, 0, 0, 2, 0, 1, 1, 1, 1, 1, 3, 3, 3, 0, 2, 3, 1, 3, 1, 2, 1,\n",
              "       1, 2, 2, 1, 1, 3, 0, 3, 2, 2, 1, 1, 1, 3, 3, 0, 0, 0, 1, 2, 3, 3,\n",
              "       1, 1, 1, 0, 1, 3, 3, 2, 1, 1, 3, 2, 3, 2, 0, 0, 3, 3, 3, 0, 1, 3,\n",
              "       3, 0, 0, 1, 1, 1, 1, 1, 3, 2, 2, 1, 1, 0, 3, 3, 2, 2, 1, 3, 3, 3,\n",
              "       1, 3, 1, 1, 1, 3, 3, 0, 3, 1, 0, 3, 3, 3, 1, 1, 2, 3, 0, 0, 3, 3,\n",
              "       2, 2, 1, 2, 2, 1, 0, 0, 3, 2, 3, 2, 1, 3, 2, 1, 1, 0, 3, 2, 3, 3,\n",
              "       1, 2, 1, 0, 1, 0, 1, 2, 2, 1, 0, 3, 2, 3, 0, 1, 1, 3, 2, 1, 2, 3,\n",
              "       1, 3, 1, 1, 1, 2, 2, 1, 1, 2, 1, 3, 2, 1, 1, 2, 0, 3, 2, 1, 0, 1,\n",
              "       0, 1, 3, 0, 0, 1, 1, 3, 3, 3, 1, 1, 0, 3, 3, 1, 1, 1, 3, 1, 1, 3,\n",
              "       1, 0, 0, 0, 0, 0, 3, 1, 2, 2, 2, 2, 1, 3, 1, 2, 2, 2, 3, 2, 0, 1,\n",
              "       1, 1, 2, 3, 3, 1, 3, 2, 1, 1, 1, 3, 2, 3, 1, 0, 2, 2, 0, 1, 1, 1,\n",
              "       1, 1, 2, 1, 1, 0, 1, 3, 2, 1, 2, 2, 1, 3, 1, 3, 0, 2, 3, 1, 2, 2,\n",
              "       1, 1, 1, 3, 3, 1, 3, 2, 3, 2, 3, 3, 0, 0, 3, 1, 2, 3, 2, 3, 2, 1,\n",
              "       0, 0, 0, 1, 0, 2, 2, 0, 2, 1, 1, 3, 1, 2, 0, 2, 1, 1, 3, 3, 1, 2,\n",
              "       2, 0, 0, 1, 0, 2, 1, 3, 2, 3, 1, 3, 0, 1, 3, 3])"
            ]
          },
          "execution_count": 22,
          "metadata": {},
          "output_type": "execute_result"
        }
      ],
      "source": [
        "y_pred"
      ]
    },
    {
      "cell_type": "code",
      "execution_count": 24,
      "metadata": {
        "id": "wqcklqyVWDMI"
      },
      "outputs": [],
      "source": [
        "from keras.models import load_model\n",
        "\n",
        "best_model.save(\"cnn_cotton.h5\")"
      ]
    },
    {
      "cell_type": "code",
      "execution_count": 1,
      "metadata": {
        "id": "B4RRcJtMWV_c"
      },
      "outputs": [],
      "source": [
        "#PREDICTION\n",
        "\n",
        "from keras.models import load_model\n",
        "from keras.preprocessing import image\n",
        "from keras.utils import load_img"
      ]
    },
    {
      "cell_type": "code",
      "execution_count": 3,
      "metadata": {
        "id": "lxwvT8ZZWV-I"
      },
      "outputs": [],
      "source": [
        "model=load_model('cnn_cotton.h5')"
      ]
    },
    {
      "cell_type": "code",
      "execution_count": 6,
      "metadata": {
        "id": "B-_0Y22wWmdN"
      },
      "outputs": [],
      "source": [
        "img= load_img(r'Dataset\\test\\fresh cotton leaf\\d (378).jpg',target_size=(224,224))"
      ]
    },
    {
      "cell_type": "code",
      "execution_count": 7,
      "metadata": {
        "colab": {
          "base_uri": "https://localhost:8080/"
        },
        "id": "E83qRiDTWmb-",
        "outputId": "be5cf373-91ba-42b0-d079-aed252d838d8"
      },
      "outputs": [
        {
          "data": {
            "text/plain": [
              "array([[[ 50.,  43.,  35.],\n",
              "        [ 53.,  48.,  42.],\n",
              "        [ 63.,  56.,  50.],\n",
              "        ...,\n",
              "        [157., 190., 135.],\n",
              "        [138., 174., 104.],\n",
              "        [159., 193., 142.]],\n",
              "\n",
              "       [[ 83.,  70.,  61.],\n",
              "        [103.,  93.,  83.],\n",
              "        [110.,  98.,  84.],\n",
              "        ...,\n",
              "        [121., 159.,  72.],\n",
              "        [167., 197., 137.],\n",
              "        [171., 204., 151.]],\n",
              "\n",
              "       [[125., 111.,  98.],\n",
              "        [152., 134., 120.],\n",
              "        [166., 149., 133.],\n",
              "        ...,\n",
              "        [156., 187., 120.],\n",
              "        [140., 175., 107.],\n",
              "        [152., 188., 118.]],\n",
              "\n",
              "       ...,\n",
              "\n",
              "       [[182., 166., 151.],\n",
              "        [179., 166., 149.],\n",
              "        [172., 159., 143.],\n",
              "        ...,\n",
              "        [173., 202., 158.],\n",
              "        [166., 193., 148.],\n",
              "        [177., 203., 158.]],\n",
              "\n",
              "       [[136., 124., 112.],\n",
              "        [159., 146., 130.],\n",
              "        [160., 148., 132.],\n",
              "        ...,\n",
              "        [183., 206., 160.],\n",
              "        [177., 203., 158.],\n",
              "        [176., 202., 155.]],\n",
              "\n",
              "       [[104.,  95.,  80.],\n",
              "        [124., 111.,  95.],\n",
              "        [152., 135., 119.],\n",
              "        ...,\n",
              "        [182., 205., 159.],\n",
              "        [185., 208., 164.],\n",
              "        [176., 202., 155.]]], dtype=float32)"
            ]
          },
          "execution_count": 7,
          "metadata": {},
          "output_type": "execute_result"
        }
      ],
      "source": [
        "x=image.img_to_array(img)\n",
        "x"
      ]
    },
    {
      "cell_type": "code",
      "execution_count": 8,
      "metadata": {
        "colab": {
          "base_uri": "https://localhost:8080/"
        },
        "id": "v1XDoiw7WmWo",
        "outputId": "0f28d7c4-8dda-4efa-cd47-64398ec254cf"
      },
      "outputs": [
        {
          "data": {
            "text/plain": [
              "(224, 224, 3)"
            ]
          },
          "execution_count": 8,
          "metadata": {},
          "output_type": "execute_result"
        }
      ],
      "source": [
        "x.shape"
      ]
    },
    {
      "cell_type": "code",
      "execution_count": 9,
      "metadata": {
        "id": "8g55zD_pWmVQ"
      },
      "outputs": [],
      "source": [
        "x = x/255"
      ]
    },
    {
      "cell_type": "code",
      "execution_count": 11,
      "metadata": {
        "colab": {
          "base_uri": "https://localhost:8080/"
        },
        "id": "ivuFy_xeWmRh",
        "outputId": "8390eb31-584c-4405-920c-b366cce77e89"
      },
      "outputs": [
        {
          "data": {
            "text/plain": [
              "(1, 224, 224, 3)"
            ]
          },
          "execution_count": 11,
          "metadata": {},
          "output_type": "execute_result"
        }
      ],
      "source": [
        "import numpy as np\n",
        "x=np.expand_dims(x,axis=0)\n",
        "\n",
        "x.shape"
      ]
    },
    {
      "cell_type": "code",
      "execution_count": 12,
      "metadata": {
        "colab": {
          "base_uri": "https://localhost:8080/"
        },
        "id": "LbJ58LuSWmQQ",
        "outputId": "e79e775c-d67f-4a49-f28b-ec50383893ff"
      },
      "outputs": [
        {
          "name": "stdout",
          "output_type": "stream",
          "text": [
            "1/1 [==============================] - 1s 561ms/step\n"
          ]
        },
        {
          "data": {
            "text/plain": [
              "array([[1.0361809e-05, 6.3583491e-07, 9.9998748e-01, 1.4974540e-06]],\n",
              "      dtype=float32)"
            ]
          },
          "execution_count": 12,
          "metadata": {},
          "output_type": "execute_result"
        }
      ],
      "source": [
        "model.predict(x)"
      ]
    },
    {
      "cell_type": "code",
      "execution_count": 13,
      "metadata": {
        "colab": {
          "base_uri": "https://localhost:8080/"
        },
        "id": "oQ7MF4tJWmJ0",
        "outputId": "0e7f4814-f4fd-4b53-f7be-df3c59376d25"
      },
      "outputs": [
        {
          "name": "stdout",
          "output_type": "stream",
          "text": [
            "1/1 [==============================] - 0s 92ms/step\n"
          ]
        }
      ],
      "source": [
        "a=np.argmax(model.predict(x), axis=1)"
      ]
    },
    {
      "cell_type": "code",
      "execution_count": 14,
      "metadata": {
        "colab": {
          "base_uri": "https://localhost:8080/"
        },
        "id": "pUVANt9UY8SA",
        "outputId": "43c2e87d-8d1b-483d-bd97-7d01800742c6"
      },
      "outputs": [
        {
          "data": {
            "text/plain": [
              "array([2], dtype=int64)"
            ]
          },
          "execution_count": 14,
          "metadata": {},
          "output_type": "execute_result"
        }
      ],
      "source": [
        "a"
      ]
    },
    {
      "cell_type": "code",
      "execution_count": null,
      "metadata": {
        "id": "Vo_1gHZp1i43"
      },
      "outputs": [],
      "source": [
        "# Downloading the model to drive\n",
        "\n",
        "#from google.colab import drive\n",
        "#drive.mount('/content/drive')\n",
        "\n",
        "#import shutil\n",
        "#shutil.copy(\"/content/cnn_cotton.h5\", \"/content/drive/MyDrive/Dataset_cotton\")"
      ]
    }
  ],
  "metadata": {
    "accelerator": "GPU",
    "colab": {
      "gpuType": "T4",
      "provenance": []
    },
    "kernelspec": {
      "display_name": "Python 3",
      "name": "python3"
    },
    "language_info": {
      "codemirror_mode": {
        "name": "ipython",
        "version": 3
      },
      "file_extension": ".py",
      "mimetype": "text/x-python",
      "name": "python",
      "nbconvert_exporter": "python",
      "pygments_lexer": "ipython3",
      "version": "3.8.0"
    }
  },
  "nbformat": 4,
  "nbformat_minor": 0
}
